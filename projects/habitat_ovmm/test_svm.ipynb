{
 "cells": [
  {
   "cell_type": "code",
   "execution_count": null,
   "metadata": {},
   "outputs": [],
   "source": [
    "voxel_map_path = \"/private/home/xiaohanzhang/accel-cortex/datadump/2023-12-10-21-14/1702242846.890587/0/svm.pkl\"\n",
    "\n",
    "import pickle\n",
    "with open(voxel_map_path, 'rb') as f:\n",
    "    svm = pickle.load(f)\n",
    "svm.show(\n",
    "    instances=True,\n",
    "    height=1000,\n",
    "    boxes_plot_together=False,\n",
    "    backend=\"pytorch3d\",\n",
    ")"
   ]
  },
  {
   "cell_type": "code",
   "execution_count": null,
   "metadata": {},
   "outputs": [],
   "source": [
    "from IPython.display import Video\n",
    "Video(\"/private/home/xiaohanzhang/accel-cortex/debug.mp4\")"
   ]
  },
  {
   "cell_type": "code",
   "execution_count": null,
   "metadata": {},
   "outputs": [],
   "source": [
    "import os\n",
    "import json\n",
    "import numpy as np\n",
    "\n",
    "dataset_dir = \"/private/home/xiaohanzhang/data/eplan\"\n",
    "valid_epi = []\n",
    "for epi in os.listdir(dataset_dir):\n",
    "\n",
    "    import pickle\n",
    "    with open(os.path.join(dataset_dir, epi, 'obs_data.pkl'), 'rb') as f:\n",
    "        obs_data = pickle.load(f)\n",
    "    with open(os.path.join(dataset_dir, epi, 'bounds.json'), 'r') as f:\n",
    "        annotation = json.load(f)       \n",
    "\n",
    "    found_obj = False\n",
    "    found_recep = False\n",
    "    for obs in obs_data:\n",
    "        perceived_ids = np.unique(obs.task_observations['gt_instance_ids'])\n",
    "        for target_id in annotation[\"object_ids\"]:\n",
    "            if target_id in perceived_ids:\n",
    "                found_obj = True\n",
    "        for target_id in annotation[\"goal_recep_ids\"]:\n",
    "            if target_id in perceived_ids:\n",
    "                found_recep = True\n",
    "    if found_obj and found_recep:\n",
    "        valid_epi.append(epi)\n",
    "        print (valid_epi)\n",
    "\n",
    "    if len(valid_epi) == 2:\n",
    "        break\n",
    "\n",
    "print (len(valid_epi))\n",
    "with open('/private/home/xiaohanzhang/accel-cortex/experiments/pmcvay/eplan_epi.json', 'w') as f:\n",
    "    json.dump(valid_epi, f, indent=4)\n"
   ]
  }
 ],
 "metadata": {
  "kernelspec": {
   "display_name": "home-robot118",
   "language": "python",
   "name": "home-robot118"
  },
  "language_info": {
   "codemirror_mode": {
    "name": "ipython",
    "version": 3
   },
   "file_extension": ".py",
   "mimetype": "text/x-python",
   "name": "python",
   "nbconvert_exporter": "python",
   "pygments_lexer": "ipython3",
   "version": "3.9.17"
  }
 },
 "nbformat": 4,
 "nbformat_minor": 2
}
