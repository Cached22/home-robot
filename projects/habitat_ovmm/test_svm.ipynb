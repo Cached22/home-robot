{
 "cells": [
  {
   "cell_type": "code",
   "execution_count": null,
   "metadata": {},
   "outputs": [],
   "source": [
    "voxel_map_path = \"/home/xiaohan/accel-cortex/svm.pkl\"\n",
    "\n",
    "import pickle\n",
    "with open(voxel_map_path, 'rb') as f:\n",
    "    svm = pickle.load(f)\n",
    "print (len(svm.get_instances()))\n",
    "svm.show(\n",
    "    instances=True,\n",
    "    height=1000,\n",
    "    boxes_plot_together=False,\n",
    "    backend=\"pytorch3d\",\n",
    ")\n"
   ]
  }
 ],
 "metadata": {
  "kernelspec": {
   "display_name": "home-robot",
   "language": "python",
   "name": "python3"
  },
  "language_info": {
   "codemirror_mode": {
    "name": "ipython",
    "version": 3
   },
   "file_extension": ".py",
   "mimetype": "text/x-python",
   "name": "python",
   "nbconvert_exporter": "python",
   "pygments_lexer": "ipython3",
   "version": "3.9.18"
  }
 },
 "nbformat": 4,
 "nbformat_minor": 2
}
