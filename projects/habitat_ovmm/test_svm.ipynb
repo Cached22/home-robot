{
 "cells": [
  {
   "cell_type": "code",
   "execution_count": null,
   "metadata": {},
   "outputs": [],
   "source": [
    "voxel_map_path = \"/private/home/xiaohanzhang/accel-cortex/frames/svm.pkl\"\n",
    "\n",
    "import pickle\n",
    "with open(voxel_map_path, 'rb') as f:\n",
    "    svm = pickle.load(f)\n",
    "svm.show(\n",
    "    instances=True,\n",
    "    height=1000,\n",
    "    boxes_plot_together=False,\n",
    "    backend=\"pytorch3d\",\n",
    ")"
   ]
  },
  {
   "cell_type": "code",
   "execution_count": null,
   "metadata": {},
   "outputs": [],
   "source": [
    "from IPython.display import Video\n",
    "Video(\"/private/home/xiaohanzhang/accel-cortex/debug.mp4\")"
   ]
  },
  {
   "cell_type": "code",
   "execution_count": null,
   "metadata": {},
   "outputs": [],
   "source": [
    "import pickle\n",
    "def has_zero_contour(phi):\n",
    "    \"\"\"\n",
    "    Check if a zero contour exists in the given phi array.\n",
    "\n",
    "    Parameters:\n",
    "    - phi: 2D NumPy array with boolean values.\n",
    "\n",
    "    Returns:\n",
    "    - True if a zero contour exists, False otherwise.\n",
    "    \"\"\"\n",
    "    # Check if there are True and False values in the array\n",
    "    has_true_values = np.any(phi)\n",
    "    has_false_values = np.any(~phi)\n",
    "\n",
    "    # Return True if both True and False values are present\n",
    "    return has_true_values and has_false_values"
   ]
  }
 ],
 "metadata": {
  "kernelspec": {
   "display_name": "home-robot118",
   "language": "python",
   "name": "home-robot118"
  },
  "language_info": {
   "codemirror_mode": {
    "name": "ipython",
    "version": 3
   },
   "file_extension": ".py",
   "mimetype": "text/x-python",
   "name": "python",
   "nbconvert_exporter": "python",
   "pygments_lexer": "ipython3",
   "version": "3.9.17"
  }
 },
 "nbformat": 4,
 "nbformat_minor": 2
}
