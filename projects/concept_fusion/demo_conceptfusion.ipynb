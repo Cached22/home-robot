{
 "cells": [
  {
   "cell_type": "code",
   "execution_count": null,
   "metadata": {},
   "outputs": [],
   "source": [
    "%load_ext autoreload\n",
    "%autoreload 2\n",
    "\n",
    "import h5py\n",
    "import torch\n",
    "\n",
    "from concept_fusion import ConceptFusion"
   ]
  },
  {
   "cell_type": "code",
   "execution_count": null,
   "metadata": {},
   "outputs": [],
   "source": [
    "# parameters\n",
    "from hydra import initialize, compose\n",
    "import hydra\n",
    "\n",
    "hydra.core.global_hydra.GlobalHydra.instance().clear()\n",
    "initialize('concept_fusion/configs')\n",
    "\n",
    "args = compose(config_name='concept_fusion')\n",
    "\n",
    "episode_file = \"/srv/flash1/kyadav32/datasets/ovmm/hm3d_512x512/0001.h5\""
   ]
  },
  {
   "cell_type": "code",
   "execution_count": null,
   "metadata": {},
   "outputs": [],
   "source": [
    "torch.autograd.set_grad_enabled(False)\n",
    "\n",
    "# initialize concept fusion model\n",
    "concept_fusion = ConceptFusion(args)\n",
    "\n",
    "# load episode\n",
    "h5_file = h5py.File(episode_file, \"r\")\n",
    "data_in_correct_format = {}\n",
    "data_in_correct_format[\"images\"] = h5_file[\"images\"]\n",
    "data_in_correct_format[\"depths\"] = h5_file[\"depth\"]\n",
    "data_in_correct_format[\"poses\"] = h5_file[\"camera_pose\"]\n",
    "\n",
    "concept_fusion.build_scene(data_in_correct_format)"
   ]
  },
  {
   "cell_type": "code",
   "execution_count": null,
   "metadata": {},
   "outputs": [],
   "source": [
    "concept_fusion.args.epsilon = 0.3\n",
    "concept_fusion.args.min_samples = 25\n",
    "concept_fusion.args.viz_type = \"thresh\"\n",
    "concept_fusion.args.similarity_thresh = 0.9\n",
    "\n",
    "instances_dict = concept_fusion.get_instances_for_queries([\"sofa\", \"windows\", \"table\", \"chair\", \"dressing_table\"])\n",
    "concept_fusion._show_point_cloud_pytorch3d(instances_dict)"
   ]
  }
 ],
 "metadata": {
  "kernelspec": {
   "display_name": "Python 3 (ipykernel)",
   "language": "python",
   "name": "python3"
  },
  "language_info": {
   "codemirror_mode": {
    "name": "ipython",
    "version": 3
   },
   "file_extension": ".py",
   "mimetype": "text/x-python",
   "name": "python",
   "nbconvert_exporter": "python",
   "pygments_lexer": "ipython3",
   "version": "3.9.17"
  },
  "orig_nbformat": 4
 },
 "nbformat": 4,
 "nbformat_minor": 2
}
