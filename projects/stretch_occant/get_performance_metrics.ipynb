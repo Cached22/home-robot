{
 "cells": [
  {
   "cell_type": "code",
   "execution_count": null,
   "metadata": {},
   "outputs": [],
   "source": [
    "import matplotlib.pyplot as plt\n",
    "import json\n",
    "import cv2\n",
    "import numpy as np\n",
    "import performance_utils as putils\n",
    "import random\n",
    "\n",
    "random.seed(123)\n",
    "np.random.seed(123)\n",
    "\n",
    "HOME_ROBOT_ROOT = \"/home/srama/Research/StretchExperiments/home-robot\"\n",
    "MAP_GT_PATH = f\"{HOME_ROBOT_ROOT}/datadump/home_human_trial_1/snapshot_325.png\"\n",
    "\n",
    "DATA_POINTS = [\n",
    "    {\n",
    "        \"pred_path\": f\"{HOME_ROBOT_ROOT}/datadump/home_ans_trial_1/snapshot_157.png\",\n",
    "        \"corr_path\": f\"{HOME_ROBOT_ROOT}/datadump/home_ans_t1_correspondences.json\",\n",
    "        \"match_dist\": 2.0,\n",
    "    },\n",
    "    {\n",
    "        \"pred_path\": f\"{HOME_ROBOT_ROOT}/datadump/home_ans_trial_2/snapshot_078.png\",\n",
    "        \"corr_path\": f\"{HOME_ROBOT_ROOT}/datadump/home_ans_t2_correspondences.json\",\n",
    "        \"match_dist\": 2.0,\n",
    "    },\n",
    "    {\n",
    "        \"pred_path\": f\"{HOME_ROBOT_ROOT}/datadump/home_ans_trial_3/snapshot_178.png\",\n",
    "        \"corr_path\": f\"{HOME_ROBOT_ROOT}/datadump/home_ans_t3_correspondences.json\",\n",
    "        \"match_dist\": 1.0,\n",
    "    },\n",
    "    {\n",
    "        \"pred_path\": f\"{HOME_ROBOT_ROOT}/datadump/home_occant_depth_w_noise_mask_close_focal_trial_1/snapshot_139.png\",\n",
    "        \"corr_path\": f\"{HOME_ROBOT_ROOT}/datadump/home_occant_depth_t1_correspondences.json\",\n",
    "        \"match_dist\": 2.0,\n",
    "    },\n",
    "    {\n",
    "        \"pred_path\": f\"{HOME_ROBOT_ROOT}/datadump/home_occant_depth_w_noise_mask_close_focal_trial_2/snapshot_180.png\",\n",
    "        \"corr_path\": f\"{HOME_ROBOT_ROOT}/datadump/home_occant_depth_t2_correspondences.json\",\n",
    "        \"match_dist\": 1.0,\n",
    "    },\n",
    "    {\n",
    "        \"pred_path\": f\"{HOME_ROBOT_ROOT}/datadump/home_occant_depth_w_noise_mask_close_focal_trial_3/snapshot_199.png\",\n",
    "        \"corr_path\": f\"{HOME_ROBOT_ROOT}/datadump/home_occant_depth_t3_correspondences.json\",\n",
    "        \"match_dist\": 2.0,\n",
    "    },\n",
    "    {\n",
    "        \"pred_path\": f\"{HOME_ROBOT_ROOT}/datadump/home_occant_rgbd_w_noise_mask_close_focal_trial_1/snapshot_261.png\",\n",
    "        \"corr_path\": f\"{HOME_ROBOT_ROOT}/datadump/home_occant_rgbd_t1_correspondences.json\",\n",
    "        \"match_dist\": 2.0,\n",
    "    },\n",
    "    {\n",
    "        \"pred_path\": f\"{HOME_ROBOT_ROOT}/datadump/home_occant_rgbd_w_noise_mask_close_focal_trial_2/snapshot_157.png\",\n",
    "        \"corr_path\": f\"{HOME_ROBOT_ROOT}/datadump/home_occant_rgbd_t2_correspondences.json\",\n",
    "        \"match_dist\": 2.0,\n",
    "    },\n",
    "    {\n",
    "        \"pred_path\": f\"{HOME_ROBOT_ROOT}/datadump/home_occant_rgbd_w_noise_mask_close_focal_trial_3/snapshot_155.png\",\n",
    "        \"corr_path\": f\"{HOME_ROBOT_ROOT}/datadump/home_occant_rgbd_t3_correspondences.json\",\n",
    "        \"match_dist\": 2.0,\n",
    "    },\n",
    "]\n",
    "\n",
    "DATA_POINT = DATA_POINTS[8]\n",
    "\n",
    "MAP_PRED_PATH = DATA_POINT[\"pred_path\"]\n",
    "CORRESPONDENCES_PATH = DATA_POINT[\"corr_path\"]\n",
    "MATCH_DISTANCE = DATA_POINT[\"match_dist\"]"
   ]
  },
  {
   "attachments": {},
   "cell_type": "markdown",
   "metadata": {},
   "source": [
    "# Before estimating correspondences"
   ]
  },
  {
   "cell_type": "code",
   "execution_count": null,
   "metadata": {},
   "outputs": [],
   "source": [
    "gt_map = putils.extract_clean_map(MAP_GT_PATH)\n",
    "pred_map = putils.extract_clean_map(MAP_PRED_PATH)\n",
    "\n",
    "fig, axes = plt.subplots(nrows=1, ncols=2, figsize=(15, 15))\n",
    "axes[0].imshow(gt_map)\n",
    "axes[0].set_title(\"GT Map\")\n",
    "\n",
    "axes[1].imshow(pred_map)\n",
    "axes[1].set_title(\"Pred Map\")"
   ]
  },
  {
   "cell_type": "code",
   "execution_count": null,
   "metadata": {},
   "outputs": [],
   "source": [
    "with open(CORRESPONDENCES_PATH, \"r\") as fp:\n",
    "    correspondences = json.load(fp)\n",
    "\n",
    "point_map = []\n",
    "for (x1, y1), (x2, y2) in zip(correspondences[\"gt\"], correspondences[\"pred\"]):\n",
    "    point_map.append((x1, y1, x2, y2))\n",
    "H, _ = putils.RANSAC(point_map, match_distance=MATCH_DISTANCE)\n",
    "\n",
    "print(H)"
   ]
  },
  {
   "attachments": {},
   "cell_type": "markdown",
   "metadata": {},
   "source": [
    "# After estimating correspondences"
   ]
  },
  {
   "cell_type": "code",
   "execution_count": null,
   "metadata": {},
   "outputs": [],
   "source": [
    "# Visualize homography\n",
    "gt_map_vis = np.copy(gt_map)\n",
    "pred_map_vis = np.copy(pred_map)\n",
    "\n",
    "for (x1, y1), (x2, y2) in zip(correspondences[\"gt\"], correspondences[\"pred\"]):\n",
    "    gt_map_vis = cv2.circle(gt_map_vis, (x1, y1), 2, (255, 0, 0))\n",
    "    pred_map_vis = cv2.circle(pred_map_vis, (x2, y2), 2, (255, 0, 0))\n",
    "    x1h, y1h = putils.transform(x1, y1, H)\n",
    "    pred_map_vis = cv2.circle(pred_map_vis, (x1h, y1h), 4, (0, 255, 0))\n",
    "\n",
    "fig, axes = plt.subplots(nrows=1, ncols=2, figsize=(15, 15))\n",
    "axes[0].imshow(gt_map_vis)\n",
    "axes[0].set_title(\"GT Map\")\n",
    "\n",
    "axes[1].imshow(pred_map_vis)\n",
    "axes[1].set_title(\"Pred Map\")"
   ]
  },
  {
   "cell_type": "code",
   "execution_count": null,
   "metadata": {},
   "outputs": [],
   "source": [
    "gt_map_warped = cv2.warpPerspective(gt_map, H, (gt_map.shape[1], gt_map.shape[0]), flags=cv2.INTER_NEAREST, borderValue=(255, 255, 255))\n",
    "fig, axes = plt.subplots(nrows=1, ncols=2, figsize=(15, 15))\n",
    "axes[0].imshow(gt_map_warped)\n",
    "axes[0].set_title(\"GT Map (warped)\")\n",
    "\n",
    "axes[1].imshow(pred_map)\n",
    "axes[1].set_title(\"Pred Map\")\n"
   ]
  },
  {
   "attachments": {},
   "cell_type": "markdown",
   "metadata": {},
   "source": [
    "# Visualize with color coding"
   ]
  },
  {
   "cell_type": "code",
   "execution_count": null,
   "metadata": {},
   "outputs": [],
   "source": [
    "gt_map_warped_binary = putils.extract_binary_map(gt_map_warped)  # (2, H, W)\n",
    "pred_map_binary = putils.extract_binary_map(pred_map)  # (2, H, W)\n",
    "\n",
    "vis_map = putils.generate_topdown_allocentric_map(gt_map_warped_binary, pred_map_binary)\n",
    "\n",
    "plt.imshow(vis_map)"
   ]
  },
  {
   "cell_type": "code",
   "execution_count": null,
   "metadata": {},
   "outputs": [],
   "source": [
    "from metrics import measure_map_quality\n",
    "import torch\n",
    "\n",
    "\n",
    "metrics = measure_map_quality(\n",
    "    torch.from_numpy(pred_map_binary[np.newaxis, :, :, :]),\n",
    "    torch.from_numpy(gt_map_warped_binary[np.newaxis, :, :, :]),\n",
    "    map_scale=0.05,\n",
    "    apply_mask=True,\n",
    "    reduction=\"mean\",\n",
    ")\n",
    "metrics_str = []\n",
    "for k in [\"mean_iou\", \"free_space_iou\", \"occ_space_iou\", \"map_accuracy\"]:\n",
    "    metrics_str.append(\"{:.3f}\".format(metrics[k]))\n",
    "print(\",\".join(metrics_str))"
   ]
  }
 ],
 "metadata": {
  "kernelspec": {
   "display_name": "home_robot",
   "language": "python",
   "name": "python3"
  },
  "language_info": {
   "codemirror_mode": {
    "name": "ipython",
    "version": 3
   },
   "file_extension": ".py",
   "mimetype": "text/x-python",
   "name": "python",
   "nbconvert_exporter": "python",
   "pygments_lexer": "ipython3",
   "version": "3.9.16"
  },
  "orig_nbformat": 4
 },
 "nbformat": 4,
 "nbformat_minor": 2
}
