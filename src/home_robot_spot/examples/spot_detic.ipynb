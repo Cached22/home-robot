{
 "cells": [
  {
   "cell_type": "code",
   "execution_count": 8,
   "metadata": {},
   "outputs": [],
   "source": [
    "from home_robot.perception.detection.detic.detic_perception import DeticPerception\n",
    "from PIL import Image\n",
    "import numpy as np\n",
    "from detectron2.data.detection_utils import read_image\n",
    "from home_robot.perception.detection.detic.Detic.detic.predictor import VisualizationDemo\n"
   ]
  },
  {
   "cell_type": "code",
   "execution_count": 3,
   "metadata": {},
   "outputs": [
    {
     "name": "stderr",
     "output_type": "stream",
     "text": [
      "An exception occurred in telemetry logging.Disabling telemetry to prevent further exceptions.\n",
      "Traceback (most recent call last):\n",
      "  File \"/opt/conda/envs/home-robot/lib/python3.9/site-packages/iopath/common/file_io.py\", line 946, in __log_tmetry_keys\n",
      "    handler.log_event()\n",
      "  File \"/opt/conda/envs/home-robot/lib/python3.9/site-packages/iopath/common/event_logger.py\", line 97, in log_event\n",
      "    del self._evt\n",
      "AttributeError: _evt\n",
      "/opt/conda/envs/home-robot/lib/python3.9/site-packages/torch/functional.py:504: UserWarning: torch.meshgrid: in an upcoming release, it will be required to pass the indexing argument. (Triggered internally at /home/conda/feedstock_root/build_artifacts/pytorch-recipe_1673738523684/work/aten/src/ATen/native/TensorShape.cpp:3190.)\n",
      "  return _VF.meshgrid(tensors, **kwargs)  # type: ignore[attr-defined]\n"
     ]
    },
    {
     "name": "stdout",
     "output_type": "stream",
     "text": [
      "Resetting zs_weight /home/jaydv/Documents/home-robot/src/home_robot/home_robot/perception/detection/detic/Detic/datasets/metadata/coco_clip_a+cname.npy\n"
     ]
    }
   ],
   "source": [
    "segmenter = DeticPerception(\n",
    "        config_file=None,\n",
    "        vocabulary=\"coco\",\n",
    "        custom_vocabulary=\"\",\n",
    "        checkpoint_file=None,\n",
    "        sem_gpu_id=0,\n",
    "        # verbose: bool = False,\n",
    "    )"
   ]
  },
  {
   "cell_type": "code",
   "execution_count": 9,
   "metadata": {},
   "outputs": [
    {
     "ename": "TypeError",
     "evalue": "__init__() missing 2 required positional arguments: 'cfg' and 'args'",
     "output_type": "error",
     "traceback": [
      "\u001b[0;31m---------------------------------------------------------------------------\u001b[0m",
      "\u001b[0;31mTypeError\u001b[0m                                 Traceback (most recent call last)",
      "\u001b[1;32m/home/jaydv/Documents/home-robot/src/home_robot_spot/examples/spot_detic.ipynb Cell 3\u001b[0m line \u001b[0;36m3\n\u001b[1;32m      <a href='vscode-notebook-cell://ssh-remote%2Bbatman/home/jaydv/Documents/home-robot/src/home_robot_spot/examples/spot_detic.ipynb#W2sdnNjb2RlLXJlbW90ZQ%3D%3D?line=0'>1</a>\u001b[0m path \u001b[39m=\u001b[39m \u001b[39m\"\u001b[39m\u001b[39m/home/jaydv/Documents/ball.jpeg\u001b[39m\u001b[39m\"\u001b[39m\n\u001b[1;32m      <a href='vscode-notebook-cell://ssh-remote%2Bbatman/home/jaydv/Documents/home-robot/src/home_robot_spot/examples/spot_detic.ipynb#W2sdnNjb2RlLXJlbW90ZQ%3D%3D?line=1'>2</a>\u001b[0m image \u001b[39m=\u001b[39m read_image(path,  \u001b[39mformat\u001b[39m\u001b[39m=\u001b[39m\u001b[39m\"\u001b[39m\u001b[39mBGR\u001b[39m\u001b[39m\"\u001b[39m)\n\u001b[0;32m----> <a href='vscode-notebook-cell://ssh-remote%2Bbatman/home/jaydv/Documents/home-robot/src/home_robot_spot/examples/spot_detic.ipynb#W2sdnNjb2RlLXJlbW90ZQ%3D%3D?line=2'>3</a>\u001b[0m demo \u001b[39m=\u001b[39m VisualizationDemo()\n",
      "\u001b[0;31mTypeError\u001b[0m: __init__() missing 2 required positional arguments: 'cfg' and 'args'"
     ]
    }
   ],
   "source": [
    "path = \"/home/jaydv/Documents/ball.jpeg\"\n",
    "image = read_image(path,  format=\"BGR\")\n",
    "demo = VisualizationDemo()"
   ]
  },
  {
   "cell_type": "code",
   "execution_count": 15,
   "metadata": {},
   "outputs": [
    {
     "data": {
      "text/plain": [
       "{'a': 1, 'b': 2, 'c': 3, 'obs': [1, 2, 3, 4, 5]}"
      ]
     },
     "execution_count": 15,
     "metadata": {},
     "output_type": "execute_result"
    }
   ],
   "source": [
    "data = {\"a\": 1, \"b\": 2, \"c\": 3}\n",
    "d = {}\n",
    "data['obs'] = [1,2,3,4,5]\n",
    "for key, value in data.items():\n",
    "    d[key] = value\n",
    "d"
   ]
  },
  {
   "cell_type": "code",
   "execution_count": 1,
   "metadata": {},
   "outputs": [
    {
     "name": "stdout",
     "output_type": "stream",
     "text": [
      "Jupyter environment detected. Enabling Open3D WebVisualizer.\n",
      "[Open3D INFO] WebRTC GUI backend enabled.\n",
      "[Open3D INFO] WebRTCWindowSystem: HTTP handshake server disabled.\n"
     ]
    }
   ],
   "source": [
    "from home_robot.utils.config import get_config, load_config"
   ]
  },
  {
   "cell_type": "code",
   "execution_count": 5,
   "metadata": {},
   "outputs": [
    {
     "data": {
      "text/plain": [
       "(Config({'step_size': 2.0, 'rotation_step_size': 'np.pi', 'visualize\"': False, 'exploration_steps': 20, 'use_midas\"': False, 'obs_min_height': 0.3, 'obs_max_height': 1.8, 'obs_min_density': 10, 'voxel_size': 0.05, 'local_radius': 0.6, 'explore_methodical': True, 'dilate_frontier_size': 10, 'dilate_obstacle_size': 2, 'smooth_kernel_size': 5, 'min_size': 20, 'max_size': 40, 'use_async_subscriber': False, 'write_data': True, 'use_zero_depth': True}),\n",
       " '{\\n    \"step_size\": 2.0,\\n    \"rotation_step_size\": \"np.pi\",\\n    \"visualize\\\\\"\": false,\\n    \"exploration_steps\": 20,\\n    \"use_midas\\\\\"\": false,\\n    \"obs_min_height\": 0.3,\\n    \"obs_max_height\": 1.8,\\n    \"obs_min_density\": 10,\\n    \"voxel_size\": 0.05,\\n    \"local_radius\": 0.6,\\n    \"explore_methodical\": true,\\n    \"dilate_frontier_size\": 10,\\n    \"dilate_obstacle_size\": 2,\\n    \"smooth_kernel_size\": 5,\\n    \"min_size\": 20,\\n    \"max_size\": 40,\\n    \"use_async_subscriber\": false,\\n    \"write_data\": true,\\n    \"use_zero_depth\": true\\n}')"
      ]
     },
     "execution_count": 5,
     "metadata": {},
     "output_type": "execute_result"
    }
   ],
   "source": [
    "get_config(\"../configs/parameters.yaml\")"
   ]
  },
  {
   "cell_type": "code",
   "execution_count": null,
   "metadata": {},
   "outputs": [],
   "source": []
  }
 ],
 "metadata": {
  "kernelspec": {
   "display_name": "home-robot",
   "language": "python",
   "name": "python3"
  },
  "language_info": {
   "codemirror_mode": {
    "name": "ipython",
    "version": 3
   },
   "file_extension": ".py",
   "mimetype": "text/x-python",
   "name": "python",
   "nbconvert_exporter": "python",
   "pygments_lexer": "ipython3",
   "version": "3.9.17"
  }
 },
 "nbformat": 4,
 "nbformat_minor": 2
}
